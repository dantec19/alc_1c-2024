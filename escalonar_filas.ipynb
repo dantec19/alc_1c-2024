{
 "cells": [
  {
   "cell_type": "markdown",
   "id": "e3ab12aa",
   "metadata": {},
   "source": [
    "### Función para escalonar filas\n",
    "(programita para triangular matrices)"
   ]
  },
  {
   "cell_type": "code",
   "execution_count": null,
   "id": "b7fd1e14",
   "metadata": {},
   "outputs": [],
   "source": [
    "import numpy as np\n",
    "\n",
    "def escalonar_filas(M):\n",
    "    \"\"\" \n",
    "        Retorna la Matriz Escalonada por Filas \n",
    "    \"\"\"\n",
    "    A = np.copy(M)\n",
    "    if (issubclass(A.dtype.type, np.integer)):\n",
    "        A = A.astype(float)\n",
    "\n",
    "    # Si A no tiene filas o columnas, ya esta escalonada\n",
    "    f, c = A.shape\n",
    "    if f == 0 or c == 0:\n",
    "        return A\n",
    "\n",
    "    # buscamos primer elemento no nulo de la primera columna\n",
    "    for i in range(f):\n",
    "        if A[i,0] != 0:\n",
    "            break\n",
    "        else:\n",
    "            # si todos los elementos de la primera columna son ceros\n",
    "            # escalonamos filas desde la segunda columna\n",
    "            B = escalonar_filas(A[:,1:])\n",
    "\n",
    "            # y volvemos a agregar la primera columna de zeros\n",
    "            return np.block([A[:,:1], B])\n",
    "\n",
    "\n",
    "    # intercambiamos filas i <-> 0, pues el primer cero aparece en la fila i\n",
    "    if i > 0:\n",
    "        A[[0,i],:] = A[[i,0],:]\n",
    "\n",
    "    # PASO DE TRIANGULACION GAUSSIANA:\n",
    "    # a las filas subsiguientes les restamos un multiplo de la primera\n",
    "    A[1:,:] -= (A[0,:] / A[0,0]) * A[1:,0:1]\n",
    "\n",
    "    # escalonamos desde la segunda fila y segunda columna en adelante\n",
    "    B = escalonar_filas(A[1:,1:])\n",
    "\n",
    "    # reconstruimos la matriz por bloques adosando a B la primera fila \n",
    "    # y la primera columna (de ceros)\n",
    "    return np.block([ [A[:1,:]], [ A[1:,:1], B] ])"
   ]
  },
  {
   "cell_type": "code",
   "execution_count": null,
   "id": "07420055",
   "metadata": {},
   "outputs": [],
   "source": [
    "# esto es para resolver la practica 1\n",
    "A = np.array([[1j,-(1+1j),0],[1,-2,1],[1,2j,-1]])\n",
    "print(A)"
   ]
  },
  {
   "cell_type": "code",
   "execution_count": null,
   "id": "f9f270ac",
   "metadata": {},
   "outputs": [],
   "source": [
    "print(escalonar_filas(A))"
   ]
  },
  {
   "cell_type": "code",
   "execution_count": null,
   "id": "7b2fc479",
   "metadata": {},
   "outputs": [],
   "source": [
    "A = np.array([[2,-1+1j,0,1],[-1,3,-3j,5]])\n",
    "print(A)"
   ]
  },
  {
   "cell_type": "code",
   "execution_count": null,
   "id": "7b956888",
   "metadata": {},
   "outputs": [],
   "source": [
    "print(escalonar_filas(A))"
   ]
  },
  {
   "cell_type": "code",
   "execution_count": null,
   "id": "557d4011",
   "metadata": {},
   "outputs": [],
   "source": [
    "print(escalonar_filas(A))"
   ]
  },
  {
   "cell_type": "code",
   "execution_count": null,
   "id": "9576b032",
   "metadata": {},
   "outputs": [],
   "source": [
    "# OJO... puede hacer algunas operaciones de cambios de fila!\n",
    "A = np.array([[1,2,3,4], [1,2,3,4],[5,6,7,8],[9,10,11,12]])\n",
    "print(A)"
   ]
  },
  {
   "cell_type": "code",
   "execution_count": null,
   "id": "9c6e67c1",
   "metadata": {},
   "outputs": [],
   "source": [
    "print(escalonar_filas(A))"
   ]
  },
  {
   "cell_type": "code",
   "execution_count": null,
   "id": "366367f0",
   "metadata": {},
   "outputs": [],
   "source": [
    "A = np.array([[5,3,11],[15,9,33],[20,12,44]])\n",
    "print(escalonar_filas(A))"
   ]
  },
  {
   "cell_type": "code",
   "execution_count": null,
   "id": "22fe669c",
   "metadata": {},
   "outputs": [],
   "source": [
    "A = np.array([[5,3,11],[15,9,33],[20,12,55]])\n",
    "print(escalonar_filas(A))"
   ]
  },
  {
   "cell_type": "markdown",
   "id": "6fc184c2",
   "metadata": {},
   "source": [
    "## Parte 2"
   ]
  },
  {
   "cell_type": "markdown",
   "id": "d471369d",
   "metadata": {},
   "source": [
    "### Complejidad de la elimación gaussiana (escalonar_filas) experimentalmente"
   ]
  },
  {
   "cell_type": "code",
   "execution_count": null,
   "id": "304e94dc",
   "metadata": {},
   "outputs": [],
   "source": [
    "import time"
   ]
  },
  {
   "cell_type": "code",
   "execution_count": null,
   "id": "9088024c",
   "metadata": {},
   "outputs": [],
   "source": [
    "# Matrices con numeros aleatorios\n",
    "A = np.random.rand(10,10)\n",
    "print(A)"
   ]
  },
  {
   "cell_type": "code",
   "execution_count": null,
   "id": "4251d0b7",
   "metadata": {},
   "outputs": [],
   "source": [
    "A = np.random.rand(100,100)\n",
    "start = time.time()\n",
    "B = escalonar_filas(A)\n",
    "end = time.time()\n",
    "t1 = end - start\n",
    "print(t1)"
   ]
  },
  {
   "cell_type": "code",
   "execution_count": null,
   "id": "fb78f214",
   "metadata": {},
   "outputs": [],
   "source": [
    "A = np.random.rand(200,200)\n",
    "start = time.time()\n",
    "B = escalonar_filas(A)\n",
    "end = time.time()\n",
    "t2 = end - start\n",
    "print(t2)"
   ]
  },
  {
   "cell_type": "code",
   "execution_count": null,
   "id": "f0701ebf",
   "metadata": {},
   "outputs": [],
   "source": [
    "A = np.random.rand(300,300)\n",
    "start = time.time()\n",
    "B = escalonar_filas(A)\n",
    "end = time.time()\n",
    "t3 = end - start\n",
    "print(t3)"
   ]
  },
  {
   "cell_type": "code",
   "execution_count": null,
   "id": "e9423102",
   "metadata": {},
   "outputs": [],
   "source": [
    "A = np.random.rand(400,400)\n",
    "start = time.time()\n",
    "B = escalonar_filas(A)\n",
    "end = time.time()\n",
    "t4 = end - start\n",
    "print(t4)"
   ]
  },
  {
   "cell_type": "code",
   "execution_count": null,
   "id": "45ca96aa",
   "metadata": {},
   "outputs": [],
   "source": [
    "import matplotlib.pyplot as plt\n",
    "x = np.array([100, 200, 300, 400])\n",
    "t = np.array([t1, t2, t3, t4])\n",
    "plt.title(\"Función escalonar_filas\")\n",
    "plt.xlabel(\"dimensión matriz\")\n",
    "plt.ylabel(\"tiempo (seg.)\")\n",
    "plt.scatter(x,t)"
   ]
  }
 ],
 "metadata": {
  "kernelspec": {
   "display_name": "Python 3 (ipykernel)",
   "language": "python",
   "name": "python3"
  },
  "language_info": {
   "codemirror_mode": {
    "name": "ipython",
    "version": 3
   },
   "file_extension": ".py",
   "mimetype": "text/x-python",
   "name": "python",
   "nbconvert_exporter": "python",
   "pygments_lexer": "ipython3",
   "version": "3.10.4"
  }
 },
 "nbformat": 4,
 "nbformat_minor": 5
}
